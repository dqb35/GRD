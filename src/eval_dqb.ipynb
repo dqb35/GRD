{
 "cells": [
  {
   "cell_type": "code",
   "execution_count": 1,
   "id": "a4e727ae-9c3e-429d-b0e7-d4bc95a7da55",
   "metadata": {},
   "outputs": [],
   "source": [
    "import numpy as np\n",
    "from sklearn.metrics import *\n",
    "# import matplotlib.pyplot as plt\n",
    "from tadpak import pak\n",
    "\n",
    "def get_fp_tp_rate(predict, actual):\n",
    "    tn, fp, fn, tp = confusion_matrix(actual, predict, labels=[0, 1]).ravel()\n",
    "\n",
    "    true_pos_rate = tp/(tp+fn)  # FPR\n",
    "    false_pos_rate = fp/(fp+tn) # TPR\n",
    "\n",
    "    return false_pos_rate, true_pos_rate\n",
    "\n",
    "\n",
    "def pak_protocol(scores, labels, threshold, max_k=100):\n",
    "    f1s = []  # 给定一个threshold的情况下的不同K(k从0到100)对应的F1分数列表\n",
    "    ks = [k/100 for k in range(0, max_k + 1)]\n",
    "    fprs = []\n",
    "    tprs = []\n",
    "    preds = []\n",
    "\n",
    "    for k in range(max_k +1):\n",
    "        adjusted_preds = pak.pak(scores, labels, threshold, k=k)\n",
    "        f1 = f1_score(labels, adjusted_preds) # 在给定threshold和k的情况下，进行PA%K处理后的F1分数\n",
    "        fpr, tpr = get_fp_tp_rate(adjusted_preds, labels)\n",
    "        fprs.append(fpr)\n",
    "        tprs.append(tpr)\n",
    "        #print(f1)   \n",
    "        #print(k)\n",
    "        f1s.append(f1)\n",
    "        preds.append(adjusted_preds)\n",
    "\n",
    "    area_under_f1 = auc(ks, f1s)\n",
    "    max_f1_k = max(f1s)\n",
    "    k_max = f1s.index(max_f1_k)\n",
    "    preds_for_max = preds[f1s.index(max_f1_k)]\n",
    "    # import matplotlib.pyplot as plt\n",
    "    # plt.cla()\n",
    "    # plt.plot(ks, f1s)\n",
    "    # plt.savefig('DiffusionAE/plots/PAK_PROTOCOL')\n",
    "    #print(f'AREA UNDER CURVE {area}')\n",
    "    return area_under_f1, max_f1_k, k_max, preds_for_max, fprs, tprs\n",
    "\n",
    "# 这里的score和label都是一维的numpy数组，长度就是数据集的长度，本例子中测试集长度为（10000，）\n",
    "def evaluate(score, label, validation_thresh=None):\n",
    "    if len(score) != len(label):\n",
    "        score = score[:len(score) - (len(score) - len(label))]\n",
    "    false_pos_rates = []\n",
    "    true_pos_rates = []\n",
    "    f1s = []\n",
    "    max_f1s_k = []\n",
    "    preds = []\n",
    "    #thresholds = np.arange(0, score.max(), min(0.001, score.max()/50))#0.001\n",
    "    thresholds = np.arange(0, score.max(), score.max()/50) #0.001\n",
    "\n",
    "    max_ks = []\n",
    "    pairs = []\n",
    "\n",
    "\n",
    "    for thresh in thresholds:\n",
    "        f1, max_f1_k, k_max, best_preds, fprs, tprs = pak_protocol(score, label, thresh) # 在本次thresholds中，说明：不同k对应的f1下的面积,得到的最大f1分数，最大f1分数对应的k，最大f1分数对应的输出预测，各个k的FPR列表，各个k的TPR列表\n",
    "        max_f1s_k.append(max_f1_k)\n",
    "        max_ks.append(k_max)\n",
    "        preds.append(best_preds)\n",
    "        false_pos_rates.append(fprs)\n",
    "        true_pos_rates.append(tprs)\n",
    "        f1s.append(f1)\n",
    "        pairs.extend([(thresh, i) for i in range(101)])\n",
    "    \n",
    "    if validation_thresh:\n",
    "        f1, max_f1_k, max_k, best_preds, _, _ = pak_protocol(score, label, validation_thresh)\n",
    "    else:    \n",
    "        f1 = max(f1s) # 选择不同阈值下最大的f1分数来认为是本次模型的的最终f1分数\n",
    "        max_possible_f1 = max(max_f1s_k) # 本次(套)模型下最大f1分数对应的k值\n",
    "        max_idx = max_f1s_k.index(max_possible_f1)\n",
    "        max_k = max_ks[max_idx]\n",
    "        thresh_max_f1 = thresholds[max_idx]\n",
    "        best_preds = preds[max_idx]\n",
    "        best_thresh = thresholds[f1s.index(f1)] # 本次(套)模型的最大f1分数对应的阈值\n",
    "    \n",
    "    roc_max = auc(np.transpose(false_pos_rates)[max_k], np.transpose(true_pos_rates)[max_k])\n",
    "    #np.save('/root/Diff-Anomaly/DiffusionAE/plots_for_paper/fprs_diff_score_pa.npy', np.transpose(false_pos_rates)[0])\n",
    "    #np.save('/root/Diff-Anomaly/DiffusionAE/plots_for_paper/tprs_diff_score_pa.npy', np.transpose(true_pos_rates)[0])\n",
    "    \n",
    "    false_pos_rates = np.array(false_pos_rates).flatten()\n",
    "    true_pos_rates = np.array(true_pos_rates).flatten()\n",
    "\n",
    "    sorted_indexes = np.argsort(false_pos_rates) \n",
    "    false_pos_rates = false_pos_rates[sorted_indexes] # 从小到大排序\n",
    "    true_pos_rates = true_pos_rates[sorted_indexes]\n",
    "    pairs = np.array(pairs)[sorted_indexes]\n",
    "    roc_score = auc(false_pos_rates, true_pos_rates) # 在本次eval中不同阈值和不同K值产生的fpr和tpr绘成一个最终的auc，来表现这次模型(参数)的能力\n",
    "\n",
    "    #np.save('/root/Diff-Anomaly/DiffusionAE/plots_for_paper/tprs_diff_score.npy', true_pos_rates)\n",
    "    #np.save('/root/Diff-Anomaly/DiffusionAE/plots_for_paper/fprs_diff_score.npy', false_pos_rates)\n",
    "    #np.save('/root/Diff-Anomaly/DiffusionAE/plots_for_paper/pairs_diff_score.npy', pairs)\n",
    "    #preds = predictions[f1s.index(f1)]\n",
    "    if validation_thresh:\n",
    "        return {\n",
    "            'f1': f1,   # f1_k(area under f1) for validation threshold\n",
    "            'ROC/AUC': roc_score, # for all ks and all thresholds obtained on test scores\n",
    "            'f1_max': max_f1_k, # best f1 across k values\n",
    "            'preds': best_preds, # corresponding to best k \n",
    "            'k': max_k, # the k value correlated with the best f1 across k=1,100\n",
    "            'thresh_max': validation_thresh,\n",
    "            'roc_max': roc_score,\n",
    "        }\n",
    "    else:\n",
    "        return {\n",
    "            'f1': f1,\n",
    "            'ROC/AUC': roc_score,\n",
    "            'threshold': best_thresh,\n",
    "            'f1_max': max_possible_f1,\n",
    "            'roc_max': roc_max,\n",
    "            'thresh_max': thresh_max_f1, \n",
    "            'preds': best_preds,\n",
    "            'k': max_k,\n",
    "        }, false_pos_rates, true_pos_rates\n"
   ]
  },
  {
   "cell_type": "code",
   "execution_count": 2,
   "id": "26336cef-f257-4bd4-a669-2dc1ca1a617c",
   "metadata": {},
   "outputs": [],
   "source": [
    "np.random.seed(0)"
   ]
  },
  {
   "cell_type": "code",
   "execution_count": 3,
   "id": "853750ab-dfd0-4a08-a530-e439a282783e",
   "metadata": {},
   "outputs": [
    {
     "data": {
      "text/plain": [
       "(10000,)"
      ]
     },
     "execution_count": 3,
     "metadata": {},
     "output_type": "execute_result"
    }
   ],
   "source": [
    "score = np.random.rand(10000)\n",
    "score.shape"
   ]
  },
  {
   "cell_type": "code",
   "execution_count": 4,
   "id": "d3e86495-00fb-4041-830a-49dbde85d8b4",
   "metadata": {},
   "outputs": [
    {
     "data": {
      "text/plain": [
       "0.9999779517807228"
      ]
     },
     "execution_count": 4,
     "metadata": {},
     "output_type": "execute_result"
    }
   ],
   "source": [
    "score.max()"
   ]
  },
  {
   "cell_type": "code",
   "execution_count": 5,
   "id": "ec20b4cd-fbc5-483e-a58d-2923b47c7b71",
   "metadata": {},
   "outputs": [
    {
     "data": {
      "text/plain": [
       "7.2449638492178e-05"
      ]
     },
     "execution_count": 5,
     "metadata": {},
     "output_type": "execute_result"
    }
   ],
   "source": [
    "score.min()"
   ]
  },
  {
   "cell_type": "code",
   "execution_count": 6,
   "id": "87dc01cf-4fd5-45e5-a580-2a57df6996cf",
   "metadata": {},
   "outputs": [
    {
     "data": {
      "text/plain": [
       "(10000,)"
      ]
     },
     "execution_count": 6,
     "metadata": {},
     "output_type": "execute_result"
    }
   ],
   "source": [
    "label = np.random.randint(2,size=10000)\n",
    "label.shape"
   ]
  },
  {
   "cell_type": "code",
   "execution_count": 7,
   "id": "b2bf81d6-19d4-4dc7-a6c2-54dd90e2a4cf",
   "metadata": {},
   "outputs": [
    {
     "name": "stdout",
     "output_type": "stream",
     "text": [
      "102.75882911682129\n"
     ]
    }
   ],
   "source": [
    "## 测试evaluate函数的运行时间\n",
    "import time\n",
    "start_time = time.time()\n",
    "result, fprs, tprs = evaluate(score=score, label=label, validation_thresh=None)\n",
    "end_time = time.time()\n",
    "print(end_time-start_time)\n",
    "## 所使用时间为：105.7059874534607秒"
   ]
  },
  {
   "cell_type": "code",
   "execution_count": null,
   "id": "c30f74db-eae8-413f-88b3-a7e34764220c",
   "metadata": {},
   "outputs": [],
   "source": []
  }
 ],
 "metadata": {
  "kernelspec": {
   "display_name": "grd",
   "language": "python",
   "name": "grd"
  },
  "language_info": {
   "codemirror_mode": {
    "name": "ipython",
    "version": 3
   },
   "file_extension": ".py",
   "mimetype": "text/x-python",
   "name": "python",
   "nbconvert_exporter": "python",
   "pygments_lexer": "ipython3",
   "version": "3.7.16"
  }
 },
 "nbformat": 4,
 "nbformat_minor": 5
}
